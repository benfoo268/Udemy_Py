{
  "nbformat": 4,
  "nbformat_minor": 0,
  "metadata": {
    "colab": {
      "name": "UdemyPyMaster.ipynb",
      "provenance": []
    },
    "kernelspec": {
      "name": "python3",
      "display_name": "Python 3"
    },
    "language_info": {
      "name": "python"
    }
  },
  "cells": [
    {
      "cell_type": "code",
      "metadata": {
        "colab": {
          "base_uri": "https://localhost:8080/"
        },
        "id": "-QvBHE8BFMWn",
        "outputId": "4541e909-c3f0-44a2-d619-7fc752a24e5d"
      },
      "source": [
        "#print outputs\n",
        "print(\"hello world\")\n",
        "print(1+2)\n",
        "#print(\"string\" + \"string\" + 2) #type error\n",
        "print(\"string\" + \"string\" + \"2\") #no type error\n",
        "print(\"the print\", \"can stretch\", \"more than\", 1, \"argument\") #allows different types via multiple arguments\n",
        "print(\"this tab \\t can go to the \\n next line\")\n",
        "\n",
        "#print(\"next\n",
        "#line\")\n",
        "#end of line error. the quote marks does not extend past the next line. dependent on the intepreter.\n",
        "\n",
        "#escape characters\n",
        "print(\"i can \\'escape\\' \\\\n this\")\n",
        "print(r\"i can 'escape' \\t this too\") #using raw variables"
      ],
      "execution_count": null,
      "outputs": [
        {
          "output_type": "stream",
          "text": [
            "hello world\n",
            "3\n",
            "stringstring2\n",
            "the print can stretch more than 1 argument\n",
            "this tab \t can go to the \n",
            " next line\n",
            "i can 'escape' \\n this\n",
            "i can 'escape' \\t this too\n"
          ],
          "name": "stdout"
        }
      ]
    },
    {
      "cell_type": "code",
      "metadata": {
        "colab": {
          "base_uri": "https://localhost:8080/"
        },
        "collapsed": true,
        "id": "VOQrlIrLFUri",
        "outputId": "39f2ea3e-d600-455a-f64e-de3ef59413c3"
      },
      "source": [
        "x = input(\"please input: \")\n",
        "print(x)"
      ],
      "execution_count": null,
      "outputs": [
        {
          "output_type": "stream",
          "text": [
            "please input: hello world\n",
            "hello world\n"
          ],
          "name": "stdout"
        }
      ]
    },
    {
      "cell_type": "code",
      "metadata": {
        "colab": {
          "base_uri": "https://localhost:8080/"
        },
        "collapsed": true,
        "id": "EZvXlZjbKzPs",
        "outputId": "f5751727-fae0-4d01-81bd-18761f4a0d9f"
      },
      "source": [
        "string1 = \"I'll want to subset this string\"\n",
        "print(string1)\n",
        "print(string1[3])\n",
        "print(string1[0]) #zero indexing\n",
        "print(string1[1])\n",
        "print(string1[-1]) #negative indexing\n",
        "print(string1[3-len(string1)]) #negative indexiing: position - string length\n",
        "print(len(string1))\n",
        "print(string1[0:10]) #slicing extends up to but doesn't include specified slice end\n",
        "print(string1[0:]) #include till the end of the slice\n",
        "print(string1[0::2]) #slicing by steps of 2\n",
        "print(string1[-12:-2])\n",
        "print(string1[-2:-8]) #doesn't work since it is by default stepping forward\n",
        "print(string1[-8:-2:-1]) #doesn't work either as the start and end are revsered\n",
        "print(string1[-2:-8:-1]) #need to tell python to step backward\n",
        "nullstring = \"\"\n",
        "print(nullstring[:1]) #this will be blank\n",
        "print(nullstring[0]) #this will be an error"
      ],
      "execution_count": null,
      "outputs": [
        {
          "output_type": "stream",
          "text": [
            "I'll want to subset this string\n",
            "l\n",
            "I\n",
            "'\n",
            "g\n",
            "l\n",
            "31\n",
            "I'll want \n",
            "I'll want to subset this string\n",
            "Il att ustti tig\n",
            " this stri\n",
            "\n",
            "\n",
            "nirts \n"
          ],
          "name": "stdout"
        }
      ]
    },
    {
      "cell_type": "code",
      "metadata": {
        "colab": {
          "base_uri": "https://localhost:8080/"
        },
        "id": "plWWUGyCFdZU",
        "outputId": "aa9665e7-a31b-4505-8a5f-f1524621c9c0"
      },
      "source": [
        "parrot = \"Norwegian Wood\"\n",
        "\n",
        "for character in parrot: #character is a special name. you can use char\n",
        "  print (character.capitalize()) #method capitalise acting on character"
      ],
      "execution_count": null,
      "outputs": [
        {
          "output_type": "stream",
          "text": [
            "N\n",
            "O\n",
            "R\n",
            "W\n",
            "E\n",
            "G\n",
            "I\n",
            "A\n",
            "N\n",
            " \n",
            "W\n",
            "O\n",
            "O\n",
            "D\n"
          ],
          "name": "stdout"
        }
      ]
    }
  ]
}