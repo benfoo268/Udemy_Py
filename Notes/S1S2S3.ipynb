{
  "cells": [
    {
      "cell_type": "code",
      "execution_count": 2,
      "metadata": {
        "colab": {
          "base_uri": "https://localhost:8080/"
        },
        "id": "-QvBHE8BFMWn",
        "outputId": "4541e909-c3f0-44a2-d619-7fc752a24e5d"
      },
      "outputs": [
        {
          "name": "stdout",
          "output_type": "stream",
          "text": [
            "hello world\n",
            "3\n",
            "stringstring2\n",
            "the print can stretch more than 1 argument\n",
            "this tab \t can go to the \n",
            " next line\n",
            "this\n",
            "causes \n",
            "printing\n",
            "i can 'escape' \\n this\n",
            "i can 'escape' \\t this too\n",
            "C:\\Users\\ftcb\n"
          ]
        }
      ],
      "source": [
        "#print outputs\n",
        "print(\"hello world\")\n",
        "print(1+2)\n",
        "#print(\"string\" + \"string\" + 2) #type error\n",
        "print(\"string\" + \"string\" + \"2\") #no type error\n",
        "print(\"the print\", \"can stretch\", \"more than\", 1, \"argument\") #allows different types via multiple arguments. python auto inserts spaces\n",
        "print(\"this tab \\t can go to the \\n next line\")\n",
        "\n",
        "#print(\"next\n",
        "#line\")\n",
        "#end of line error. the quote marks does not extend past the next line. dependent on the intepreter.\n",
        "meal_4 = \"\"\"this\n",
        "causes \n",
        "printing\"\"\"\n",
        "print (meal_4)\n",
        "#note that triples quotes \"\"\" allows breaking across the line, which prints next line as well.\n",
        "\n",
        "#escape characters\n",
        "print(\"i can \\'escape\\' \\\\n this\")\n",
        "print(r\"i can 'escape' \\t this too\") #using raw variables\n",
        "#using raw string:\n",
        "print(r\"C:\\Users\\ftcb\")"
      ]
    },
    {
      "cell_type": "code",
      "execution_count": null,
      "metadata": {
        "colab": {
          "base_uri": "https://localhost:8080/"
        },
        "collapsed": true,
        "id": "VOQrlIrLFUri",
        "outputId": "39f2ea3e-d600-455a-f64e-de3ef59413c3"
      },
      "outputs": [
        {
          "name": "stdout",
          "output_type": "stream",
          "text": [
            "please input: hello world\n",
            "hello world\n"
          ]
        }
      ],
      "source": [
        "x = input(\"please input: \")\n",
        "print(x)"
      ]
    },
    {
      "cell_type": "code",
      "execution_count": 14,
      "metadata": {
        "colab": {
          "base_uri": "https://localhost:8080/"
        },
        "collapsed": true,
        "id": "EZvXlZjbKzPs",
        "outputId": "f5751727-fae0-4d01-81bd-18761f4a0d9f"
      },
      "outputs": [
        {
          "name": "stdout",
          "output_type": "stream",
          "text": [
            "I'll want to subset this string\n",
            "l\n",
            "I\n",
            "'\n",
            "g\n",
            "l\n",
            "string length = 31\n",
            "I'll want \n",
            "I'll want to subset this string\n",
            "Il att ustti tig\n",
            " this stri\n",
            "Il att\n",
            "\n",
            "\n",
            "nirts \n",
            "I'll want \n",
            "31\n",
            "gnirts siht tesbus ot tnaw ll'\n",
            "gnirts siht tesbus ot tnaw ll'I\n",
            "\n"
          ]
        }
      ],
      "source": [
        "string1 = \"I'll want to subset this string\"\n",
        "print(string1)\n",
        "print(string1[3])\n",
        "print(string1[0]) #zero indexing\n",
        "print(string1[1])\n",
        "print(string1[-1]) #negative indexing\n",
        "print(string1[3-len(string1)]) #negative indexiing: position - string length\n",
        "print(\"string length =\", len(string1))\n",
        "print(string1[0:10]) #slicing extends up to but doesn't include specified slice end\n",
        "print(string1[0:]) #include till the end of the slice\n",
        "print(string1[0::2]) #slicing by steps of 2\n",
        "print(string1[-12:-2])\n",
        "print(string1[0:12:2]) #specifies the start, end and ste[]\n",
        "print(string1[-2:-8]) #doesn't work since it is by default stepping forward\n",
        "print(string1[-8:-2:-1]) #doesn't work either as the start and end are revsered\n",
        "print(string1[-2:-8:-1]) #need to tell python to step backward\n",
        "\n",
        "stringout = string1[0:10] #you can subset into a variable. Ref L30values\n",
        "print(stringout)\n",
        "\n",
        "lens1 = len(string1)\n",
        "type(lens1)\n",
        "print(lens1)\n",
        "backwards = string1[lens1:0:-1] #slices extend up to but not including\n",
        "print(backwards)\n",
        "backwards2 = string1[lens1::-1] #omit the end and python will run till the end of the string\n",
        "print(backwards2)\n",
        "\n",
        "nullstring = \"\"\n",
        "print(nullstring[:1]) #this will be blank\n",
        "# print(nullstring[0]) #this will be an error"
      ]
    },
    {
      "cell_type": "code",
      "execution_count": 4,
      "metadata": {},
      "outputs": [
        {
          "name": "stdout",
          "output_type": "stream",
          "text": [
            "MTWTFSS\n",
            "12345678\n",
            "12345678\n",
            "True\n"
          ]
        }
      ],
      "source": [
        "days = \"Mon, Tue, Wed, Thu, Fri, Sat, Sun\"\n",
        "print(days[::5])\n",
        "# The slice starts at the first character, and includes every 5th character.\n",
        "data = \"1:A, 2:B, 3:C, 4:D, 5:E, 6:F, 7:G, 8:H\"\n",
        "print(data[0:-1:5])\n",
        "# This slice starts at the first character, and goes to the end of the string (-1 means the first character counting from the end), extracting every 5th. The result will be 12345678\n",
        "print(data[:-1:5])\n",
        "# This slice starts at the first character, and goes to the end of the string, extracting every 5th. The result will be 12345678\n",
        "\n",
        "flower = \"blue violet\" \n",
        "print(\"blue\" in flower) #note blue and \"blue\" are different. #python does not have the function \"contain\"\n",
        "\n",
        "#//integer division"
      ]
    },
    {
      "cell_type": "code",
      "execution_count": 20,
      "metadata": {},
      "outputs": [
        {
          "name": "stdout",
          "output_type": "stream",
          "text": [
            "I'll want to subset this stringconcencate mecontinue...\n",
            "he said hello\n",
            "woofwoofwoofwoofwoof\n",
            "True\n",
            "True\n",
            "False\n",
            "my age is 24 years old\n",
            "There are 31 days in Jan, Mar, May. I love Mar, Jan months\n",
            "i am 24 years old\n"
          ]
        }
      ],
      "source": [
        "#LESSON 32-33 \n",
        "string2 = \"concencate me\"\n",
        "print(string1 + string2 + \"continue...\") \n",
        "print(\"he \" \"said \" \"hello\") #concatenating string literals without +\n",
        "print(\"woof\" *5)\n",
        "\n",
        "today = \"friday\"\n",
        "print(\"day\" in today)\n",
        "print(\"fri\" in today)\n",
        "print(\"thur\" in today)\n",
        "#using the int operator to check if a string is in the subset of strings\n",
        "\n",
        "age = 24\n",
        "print(\"my age is {0} years old\".format(age))\n",
        "print(\"There are {0} days in {1}, {2}, {3}. I love {2}, {1} months\".format(31, \"Jan\", \"Mar\", \"May\"))\n",
        "# in later versions you can use f strings - formatted strings\n",
        "print(\"i am\" f\" {age} years old\")"
      ]
    }
  ],
  "metadata": {
    "colab": {
      "name": "UdemyPyMaster.ipynb",
      "provenance": []
    },
    "kernelspec": {
      "display_name": "Python 3",
      "name": "python3"
    },
    "language_info": {
      "codemirror_mode": {
        "name": "ipython",
        "version": 3
      },
      "file_extension": ".py",
      "mimetype": "text/x-python",
      "name": "python",
      "nbconvert_exporter": "python",
      "pygments_lexer": "ipython3",
      "version": "3.9.9"
    }
  },
  "nbformat": 4,
  "nbformat_minor": 0
}
